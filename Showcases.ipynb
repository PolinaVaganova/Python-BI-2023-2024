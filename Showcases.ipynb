{
 "cells": [
  {
   "cell_type": "code",
   "execution_count": 25,
   "id": "153a3b11-10cf-4986-8170-da0b58622c3e",
   "metadata": {},
   "outputs": [],
   "source": [
    "from pybioseq_utils import DNASequence, RNASequence\n",
    "from bio_files_processor import OpenFasta"
   ]
  },
  {
   "cell_type": "markdown",
   "id": "5b317e24-1cd6-4bbe-8e6a-98f52dcc6c6a",
   "metadata": {},
   "source": [
    "# biopyseq-utils \n",
    "Library for processing protein, nucleic sequences and filter fastaq files. \n",
    "\n",
    "### Usage\n",
    "This section contains example of usage some of biopyseq-utils functions."
   ]
  },
  {
   "cell_type": "markdown",
   "id": "791f4062-5264-46ba-ad2b-a7c91105d5dd",
   "metadata": {},
   "source": [
    "### `DNASequence` - class, that represents a DNA sequence"
   ]
  },
  {
   "cell_type": "markdown",
   "id": "7cdcf6fb-bb7b-471e-8e5e-d0f8ee66a895",
   "metadata": {},
   "source": [
    "`complement` - gives complement DNA or RNA sequence."
   ]
  },
  {
   "cell_type": "code",
   "execution_count": 26,
   "id": "998abd1e-6dde-4cab-a7cd-f4960f556760",
   "metadata": {},
   "outputs": [
    {
     "data": {
      "text/plain": [
       "'TCTATGTGT'"
      ]
     },
     "execution_count": 26,
     "metadata": {},
     "output_type": "execute_result"
    }
   ],
   "source": [
    "dna = DNASequence(\"AGATACACA\")\n",
    "dna.complement().seq"
   ]
  },
  {
   "cell_type": "markdown",
   "id": "355cf239-166e-455e-9083-b6067ab75916",
   "metadata": {},
   "source": [
    "`transcribe` - transcribes given DNA sequences to RNA."
   ]
  },
  {
   "cell_type": "code",
   "execution_count": 27,
   "id": "0c9688f7-06c1-4426-82fd-653c71ef5350",
   "metadata": {},
   "outputs": [
    {
     "data": {
      "text/plain": [
       "'AGAUACACA'"
      ]
     },
     "execution_count": 27,
     "metadata": {},
     "output_type": "execute_result"
    }
   ],
   "source": [
    "dna = DNASequence(\"AGATACACA\")\n",
    "dna.transcribe().seq"
   ]
  },
  {
   "cell_type": "markdown",
   "id": "7a56b322-ec98-4688-b6f3-580f22ba3b2a",
   "metadata": {},
   "source": [
    "### `RNASequence` - class, that represents a RNA sequence"
   ]
  },
  {
   "cell_type": "code",
   "execution_count": 28,
   "id": "4548512d-bb9b-4d19-a0fb-c139e75c494e",
   "metadata": {},
   "outputs": [
    {
     "data": {
      "text/plain": [
       "'UCUAUGUGU'"
      ]
     },
     "execution_count": 28,
     "metadata": {},
     "output_type": "execute_result"
    }
   ],
   "source": [
    "dna = RNASequence(\"AGAUACACA\")\n",
    "dna.complement().seq"
   ]
  },
  {
   "cell_type": "markdown",
   "id": "e29e0efd-dd51-498e-87b1-c3376492ab77",
   "metadata": {},
   "source": [
    "# bio_files_processor\n",
    "Library for proccessing fasta files.\n",
    "\n",
    "\n",
    "### Usage\n",
    "This section contains example of usage some of bio_files_processor features."
   ]
  },
  {
   "cell_type": "markdown",
   "id": "54878525-3813-405f-b15c-aaa2f7ef64c4",
   "metadata": {},
   "source": [
    "### `OpenFasta` - context manager for reading FASTA files"
   ]
  },
  {
   "cell_type": "code",
   "execution_count": 29,
   "id": "d58fb3e9-f3e6-440b-9602-630e19fcb38e",
   "metadata": {},
   "outputs": [
    {
     "name": "stdout",
     "output_type": "stream",
     "text": [
      "ACGGCCATAGGACTTTGAAAGCACCGCATCCCGTCCGATCTGCGAAGTTAACCAAGATGCCGCCTGGTTAGTACCATGGTGGGGGACCACATGGGAATCCCTGGTGCTGTG\n"
     ]
    }
   ],
   "source": [
    "with OpenFasta(\"example_data/example_fasta.fasta\") as fasta:\n",
    "    record = fasta.read_record()\n",
    "    print(record.seq)"
   ]
  }
 ],
 "metadata": {
  "kernelspec": {
   "display_name": "Python 3 (ipykernel)",
   "language": "python",
   "name": "python3"
  },
  "language_info": {
   "codemirror_mode": {
    "name": "ipython",
    "version": 3
   },
   "file_extension": ".py",
   "mimetype": "text/x-python",
   "name": "python",
   "nbconvert_exporter": "python",
   "pygments_lexer": "ipython3",
   "version": "3.10.12"
  }
 },
 "nbformat": 4,
 "nbformat_minor": 5
}
