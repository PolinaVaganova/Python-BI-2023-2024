{
 "cells": [
  {
   "cell_type": "code",
   "execution_count": 1,
   "id": "153a3b11-10cf-4986-8170-da0b58622c3e",
   "metadata": {},
   "outputs": [],
   "source": [
    "import time\n",
    "from pybioseq_utils import DNASequence, RNASequence\n",
    "from bio_files_processor import OpenFasta\n",
    "from custom_random_forest import RandomForestClassifierCustom\n",
    "from sklearn.datasets import make_classification"
   ]
  },
  {
   "cell_type": "markdown",
   "id": "5b317e24-1cd6-4bbe-8e6a-98f52dcc6c6a",
   "metadata": {},
   "source": [
    "# biopyseq-utils \n",
    "Library for processing protein, nucleic sequences and filter fastaq files. \n",
    "\n",
    "### Usage\n",
    "This section contains example of usage some of biopyseq-utils functions."
   ]
  },
  {
   "cell_type": "markdown",
   "id": "791f4062-5264-46ba-ad2b-a7c91105d5dd",
   "metadata": {},
   "source": [
    "### `DNASequence` - class, that represents a DNA sequence"
   ]
  },
  {
   "cell_type": "markdown",
   "id": "7cdcf6fb-bb7b-471e-8e5e-d0f8ee66a895",
   "metadata": {},
   "source": [
    "`complement` - gives complement DNA or RNA sequence."
   ]
  },
  {
   "cell_type": "code",
   "execution_count": 2,
   "id": "998abd1e-6dde-4cab-a7cd-f4960f556760",
   "metadata": {},
   "outputs": [
    {
     "data": {
      "text/plain": [
       "'TCTATGTGT'"
      ]
     },
     "execution_count": 2,
     "metadata": {},
     "output_type": "execute_result"
    }
   ],
   "source": [
    "dna = DNASequence(\"AGATACACA\")\n",
    "dna.complement().seq"
   ]
  },
  {
   "cell_type": "markdown",
   "id": "355cf239-166e-455e-9083-b6067ab75916",
   "metadata": {},
   "source": [
    "`transcribe` - transcribes given DNA sequences to RNA."
   ]
  },
  {
   "cell_type": "code",
   "execution_count": 3,
   "id": "0c9688f7-06c1-4426-82fd-653c71ef5350",
   "metadata": {},
   "outputs": [
    {
     "data": {
      "text/plain": [
       "'AGAUACACA'"
      ]
     },
     "execution_count": 3,
     "metadata": {},
     "output_type": "execute_result"
    }
   ],
   "source": [
    "dna = DNASequence(\"AGATACACA\")\n",
    "dna.transcribe().seq"
   ]
  },
  {
   "cell_type": "markdown",
   "id": "7a56b322-ec98-4688-b6f3-580f22ba3b2a",
   "metadata": {},
   "source": [
    "### `RNASequence` - class, that represents a RNA sequence"
   ]
  },
  {
   "cell_type": "code",
   "execution_count": 4,
   "id": "4548512d-bb9b-4d19-a0fb-c139e75c494e",
   "metadata": {},
   "outputs": [
    {
     "data": {
      "text/plain": [
       "'UCUAUGUGU'"
      ]
     },
     "execution_count": 4,
     "metadata": {},
     "output_type": "execute_result"
    }
   ],
   "source": [
    "dna = RNASequence(\"AGAUACACA\")\n",
    "dna.complement().seq"
   ]
  },
  {
   "cell_type": "markdown",
   "id": "e29e0efd-dd51-498e-87b1-c3376492ab77",
   "metadata": {},
   "source": [
    "# bio_files_processor\n",
    "Library for proccessing fasta files.\n",
    "\n",
    "\n",
    "### Usage\n",
    "This section contains example of usage some of bio_files_processor features."
   ]
  },
  {
   "cell_type": "markdown",
   "id": "54878525-3813-405f-b15c-aaa2f7ef64c4",
   "metadata": {},
   "source": [
    "### `OpenFasta` - context manager for reading FASTA files"
   ]
  },
  {
   "cell_type": "code",
   "execution_count": 5,
   "id": "d58fb3e9-f3e6-440b-9602-630e19fcb38e",
   "metadata": {},
   "outputs": [
    {
     "name": "stdout",
     "output_type": "stream",
     "text": [
      "ACGGCCATAGGACTTTGAAAGCACCGCATCCCGTCCGATCTGCGAAGTTAACCAAGATGCCGCCTGGTTAGTACCATGGTGGGGGACCACATGGGAATCCCTGGTGCTGTG\n"
     ]
    }
   ],
   "source": [
    "with OpenFasta(\"example_data/example_fasta.fasta\") as fasta:\n",
    "    record = fasta.read_record()\n",
    "    print(record.seq)"
   ]
  },
  {
   "cell_type": "markdown",
   "id": "0331a920-272c-445e-ba38-04bdcf5d8249",
   "metadata": {},
   "source": [
    "# custom_random_forest\n",
    "Script with custom random forest classificator.\n",
    "\n",
    "\n",
    "### Usage\n",
    "This section contains example of usage custom random forest classificator with 1 and 2 threads with corresponding time consumption."
   ]
  },
  {
   "cell_type": "code",
   "execution_count": 6,
   "id": "ca3e2027-d7b7-4211-8a30-621228635cb5",
   "metadata": {},
   "outputs": [],
   "source": [
    "X, y = make_classification(n_samples=100000)\n",
    "random_forest = RandomForestClassifierCustom(max_depth=30, n_estimators=10, \n",
    "                                             max_features=2, random_state=42)"
   ]
  },
  {
   "cell_type": "code",
   "execution_count": 7,
   "id": "9696a346-9dac-42cc-a3a4-8ee4398da17a",
   "metadata": {},
   "outputs": [],
   "source": [
    "# Fit and predict with 1 thread\n",
    "rf_single_thread = RandomForestClassifierCustom()\n",
    "start_time_single_fit = time.time()\n",
    "rf_single_thread.fit(X, y, n_jobs=1)\n",
    "end_time_single_fit = time.time()\n",
    "\n",
    "start_time_single_predict = time.time()\n",
    "predictions_single_thread = rf_single_thread.predict(X, n_jobs=1)\n",
    "end_time_single_predict = time.time()"
   ]
  },
  {
   "cell_type": "code",
   "execution_count": 8,
   "id": "3bbc406e-0888-4d27-afed-6fd64c4a176f",
   "metadata": {},
   "outputs": [],
   "source": [
    "# Fit and predict with 2 threads\n",
    "rf_multi_thread = RandomForestClassifierCustom()\n",
    "start_time_multi_fit = time.time()\n",
    "rf_multi_thread.fit(X, y, n_jobs=2)\n",
    "end_time_multi_fit = time.time()\n",
    "\n",
    "start_time_multi_predict = time.time()\n",
    "predictions_multi_thread = rf_multi_thread.predict(X, n_jobs=2)\n",
    "end_time_multi_predict = time.time()"
   ]
  },
  {
   "cell_type": "code",
   "execution_count": 9,
   "id": "667ccfad-47e9-45c5-a7c9-65fe6a28eaa2",
   "metadata": {},
   "outputs": [
    {
     "name": "stdout",
     "output_type": "stream",
     "text": [
      "Time for fit with 1 thread: 6.486485719680786\n",
      "Time for fit with 2 threads: 3.9471328258514404\n",
      "Time for predict with 1 thread: 0.5635766983032227\n",
      "Time for predict with 2 threads: 0.301513671875\n"
     ]
    }
   ],
   "source": [
    "# Print time metrics\n",
    "print(\"Time for fit with 1 thread:\", end_time_single_fit - start_time_single_fit)\n",
    "print(\"Time for fit with 2 threads:\", end_time_multi_fit - start_time_multi_fit)\n",
    "print(\"Time for predict with 1 thread:\", end_time_single_predict - start_time_single_predict)\n",
    "print(\"Time for predict with 2 threads:\", end_time_multi_predict - start_time_multi_predict)"
   ]
  },
  {
   "cell_type": "code",
   "execution_count": 10,
   "id": "6bfdc746-7608-4e5d-aee8-ff4711030899",
   "metadata": {},
   "outputs": [
    {
     "name": "stdout",
     "output_type": "stream",
     "text": [
      "Predictions match: False\n"
     ]
    }
   ],
   "source": [
    "predictions_match = (predictions_single_thread == predictions_multi_thread).all()\n",
    "print(\"Predictions match:\", predictions_match)"
   ]
  },
  {
   "cell_type": "code",
   "execution_count": null,
   "id": "19bcbc36-67e4-42bf-b741-0f4e105dc4b6",
   "metadata": {},
   "outputs": [],
   "source": []
  }
 ],
 "metadata": {
  "kernelspec": {
   "display_name": "Python 3 (ipykernel)",
   "language": "python",
   "name": "python3"
  },
  "language_info": {
   "codemirror_mode": {
    "name": "ipython",
    "version": 3
   },
   "file_extension": ".py",
   "mimetype": "text/x-python",
   "name": "python",
   "nbconvert_exporter": "python",
   "pygments_lexer": "ipython3",
   "version": "3.10.12"
  }
 },
 "nbformat": 4,
 "nbformat_minor": 5
}
